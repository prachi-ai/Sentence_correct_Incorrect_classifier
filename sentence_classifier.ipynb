{
  "nbformat": 4,
  "nbformat_minor": 0,
  "metadata": {
    "colab": {
      "name": "sentence classifier_final.ipynb",
      "provenance": [],
      "collapsed_sections": []
    },
    "kernelspec": {
      "name": "python3",
      "display_name": "Python 3"
    },
    "accelerator": "GPU"
  },
  "cells": [
    {
      "cell_type": "code",
      "metadata": {
        "id": "T9LAQsK2jc88"
      },
      "source": [
        "#import libraries\n",
        "import pandas as pd\n",
        "import numpy as np\n",
        "import matplotlib.pyplot as plt\n",
        "import seaborn as sns\n",
        "from sklearn.model_selection import train_test_split\n",
        "from sklearn.preprocessing import LabelEncoder\n",
        "from keras.models import Model, Sequential\n",
        "from keras.layers import LSTM, Activation, Dense, Dropout, Input, Embedding, Bidirectional, Conv2D, MaxPooling1D\n",
        "from keras.optimizers import RMSprop\n",
        "from keras.preprocessing.text import Tokenizer\n",
        "from keras.preprocessing import sequence\n",
        "from keras.utils import to_categorical\n",
        "from keras.callbacks import EarlyStopping\n",
        "%matplotlib inline\n",
        "from keras.regularizers import l2\n",
        "from keras.models import load_model\n",
        "from keras import regularizers"
      ],
      "execution_count": 16,
      "outputs": []
    },
    {
      "cell_type": "code",
      "metadata": {
        "id": "tCXxF9nSjkkN"
      },
      "source": [
        "#Read data form dataset\n",
        "df = pd.read_csv('/content/dataset.csv', encoding='latin1', engine='python')"
      ],
      "execution_count": 17,
      "outputs": []
    },
    {
      "cell_type": "code",
      "metadata": {
        "id": "9-2v0jqPlAi5"
      },
      "source": [
        "df.to_csv(\"/content/dataset.csv\", header=[\"Incorrect\", \"Correct\", \"ID1\", \"ID2\", \"NA\"], index=False)"
      ],
      "execution_count": 18,
      "outputs": []
    },
    {
      "cell_type": "code",
      "metadata": {
        "id": "jNDu8XR-ro_7",
        "outputId": "2a91cae0-3717-4435-8604-eec33b5cd047",
        "colab": {
          "base_uri": "https://localhost:8080/",
          "height": 244
        }
      },
      "source": [
        "Label = []*df.shape[0]\n",
        "for i in range(0, df.shape[0]):\n",
        "  Label = Label + [\"Incorrect\"]\n",
        "for i in range(0, df.shape[0]):\n",
        "  Label = Label + [\"Correct\"]"
      ],
      "execution_count": 19,
      "outputs": [
        {
          "output_type": "error",
          "ename": "KeyboardInterrupt",
          "evalue": "ignored",
          "traceback": [
            "\u001b[0;31m---------------------------------------------------------------------------\u001b[0m",
            "\u001b[0;31mKeyboardInterrupt\u001b[0m                         Traceback (most recent call last)",
            "\u001b[0;32m<ipython-input-19-45f77e2ad0c0>\u001b[0m in \u001b[0;36m<module>\u001b[0;34m()\u001b[0m\n\u001b[1;32m      1\u001b[0m \u001b[0mLabel\u001b[0m \u001b[0;34m=\u001b[0m \u001b[0;34m[\u001b[0m\u001b[0;34m]\u001b[0m\u001b[0;34m*\u001b[0m\u001b[0mdf\u001b[0m\u001b[0;34m.\u001b[0m\u001b[0mshape\u001b[0m\u001b[0;34m[\u001b[0m\u001b[0;36m0\u001b[0m\u001b[0;34m]\u001b[0m\u001b[0;34m\u001b[0m\u001b[0;34m\u001b[0m\u001b[0m\n\u001b[1;32m      2\u001b[0m \u001b[0;32mfor\u001b[0m \u001b[0mi\u001b[0m \u001b[0;32min\u001b[0m \u001b[0mrange\u001b[0m\u001b[0;34m(\u001b[0m\u001b[0;36m0\u001b[0m\u001b[0;34m,\u001b[0m \u001b[0mdf\u001b[0m\u001b[0;34m.\u001b[0m\u001b[0mshape\u001b[0m\u001b[0;34m[\u001b[0m\u001b[0;36m0\u001b[0m\u001b[0;34m]\u001b[0m\u001b[0;34m)\u001b[0m\u001b[0;34m:\u001b[0m\u001b[0;34m\u001b[0m\u001b[0;34m\u001b[0m\u001b[0m\n\u001b[0;32m----> 3\u001b[0;31m   \u001b[0mLabel\u001b[0m \u001b[0;34m=\u001b[0m \u001b[0mLabel\u001b[0m \u001b[0;34m+\u001b[0m \u001b[0;34m[\u001b[0m\u001b[0;34m\"Incorrect\"\u001b[0m\u001b[0;34m]\u001b[0m\u001b[0;34m\u001b[0m\u001b[0;34m\u001b[0m\u001b[0m\n\u001b[0m\u001b[1;32m      4\u001b[0m \u001b[0;32mfor\u001b[0m \u001b[0mi\u001b[0m \u001b[0;32min\u001b[0m \u001b[0mrange\u001b[0m\u001b[0;34m(\u001b[0m\u001b[0;36m0\u001b[0m\u001b[0;34m,\u001b[0m \u001b[0mdf\u001b[0m\u001b[0;34m.\u001b[0m\u001b[0mshape\u001b[0m\u001b[0;34m[\u001b[0m\u001b[0;36m0\u001b[0m\u001b[0;34m]\u001b[0m\u001b[0;34m)\u001b[0m\u001b[0;34m:\u001b[0m\u001b[0;34m\u001b[0m\u001b[0;34m\u001b[0m\u001b[0m\n\u001b[1;32m      5\u001b[0m   \u001b[0mLabel\u001b[0m \u001b[0;34m=\u001b[0m \u001b[0mLabel\u001b[0m \u001b[0;34m+\u001b[0m \u001b[0;34m[\u001b[0m\u001b[0;34m\"Correct\"\u001b[0m\u001b[0;34m]\u001b[0m\u001b[0;34m\u001b[0m\u001b[0;34m\u001b[0m\u001b[0m\n",
            "\u001b[0;31mKeyboardInterrupt\u001b[0m: "
          ]
        }
      ]
    },
    {
      "cell_type": "code",
      "metadata": {
        "id": "JNAF_woNsSgQ"
      },
      "source": [
        "Sentence = df['Incorrect'].append(df[\"Correct\"])\n",
        "Sentence"
      ],
      "execution_count": null,
      "outputs": []
    },
    {
      "cell_type": "code",
      "metadata": {
        "id": "A42Ltyo04unS"
      },
      "source": [
        "Sentence.shape"
      ],
      "execution_count": null,
      "outputs": []
    },
    {
      "cell_type": "code",
      "metadata": {
        "id": "OgkqaTq95Au7"
      },
      "source": [
        "#Get the labelled dataset\n",
        "df1 = pd.DataFrame(list(zip(Sentence, Label)), \n",
        "               columns =['Sentence', 'Label']) "
      ],
      "execution_count": null,
      "outputs": []
    },
    {
      "cell_type": "code",
      "metadata": {
        "id": "fBSsgJkE7RXq",
        "outputId": "9af3e246-8b58-46e2-ab25-e6d046def29f",
        "colab": {
          "base_uri": "https://localhost:8080/",
          "height": 369
        }
      },
      "source": [
        "\n",
        "sns.countplot(df1.Label)\n",
        "plt.xlabel('Label')\n",
        "plt.title('Number of Incorrect and correct sentences')"
      ],
      "execution_count": 20,
      "outputs": [
        {
          "output_type": "stream",
          "text": [
            "/usr/local/lib/python3.6/dist-packages/seaborn/_decorators.py:43: FutureWarning: Pass the following variable as a keyword arg: x. From version 0.12, the only valid positional argument will be `data`, and passing other arguments without an explicit keyword will result in an error or misinterpretation.\n",
            "  FutureWarning\n"
          ],
          "name": "stderr"
        },
        {
          "output_type": "execute_result",
          "data": {
            "text/plain": [
              "Text(0.5, 1.0, 'Number of Incorrect and correct sentences')"
            ]
          },
          "metadata": {
            "tags": []
          },
          "execution_count": 20
        },
        {
          "output_type": "display_data",
          "data": {
            "image/png": "[encoded data removed]",
            "text/plain": [
              "<Figure size 432x288 with 1 Axes>"
            ]
          },
          "metadata": {
            "tags": [],
            "needs_background": "light"
          }
        }
      ]
    },
    {
      "cell_type": "code",
      "metadata": {
        "id": "hiM0W94q7hkI"
      },
      "source": [
        "X = df1.Sentence\n",
        "Y = df1.Label\n",
        "le = LabelEncoder()   # encode target labels to value betn 0 to (n_classes-1) \n",
        "Y = le.fit_transform(Y)   #now Y is a 1D array of 0 and 1\n",
        "Y = Y.reshape(-1,1)    # convert Y in 2D array "
      ],
      "execution_count": 21,
      "outputs": []
    },
    {
      "cell_type": "code",
      "metadata": {
        "id": "lnYtr8JM73W2"
      },
      "source": [
        "x_train, x_test, y_train, y_test= train_test_split(X, Y, test_size=0.20)"
      ],
      "execution_count": 22,
      "outputs": []
    },
    {
      "cell_type": "code",
      "metadata": {
        "id": "NoO0T7Vl8OK1",
        "outputId": "2440b81c-85f7-4870-d534-0cbc9cd6674f",
        "colab": {
          "base_uri": "https://localhost:8080/",
          "height": 145
        }
      },
      "source": [
        "max_words = 15000                        #1000\n",
        "max_len = 150\n",
        "tok = Tokenizer(num_words=max_words) #turn each text into either a sequence of integers or into a vector \n",
        "tok.fit_on_texts(x_train.astype(str))            #turn words in X_train into sequences or index of a token in a dictionary\n",
        "sequences = tok.texts_to_sequences(x_train.astype(str))\n",
        "sequences\n",
        "sequences_matrix = sequence.pad_sequences(sequences,maxlen=max_len)\n",
        "sequences_matrix"
      ],
      "execution_count": 23,
      "outputs": [
        {
          "output_type": "execute_result",
          "data": {
            "text/plain": [
              "array([[  0,   0,   0, ..., 127,  54,  79],\n",
              "       [  0,   0,   0, ..., 187,  29,  17],\n",
              "       [  0,   0,   0, ...,  69,   2,  63],\n",
              "       ...,\n",
              "       [  0,   0,   0, ...,  56,   7,  26],\n",
              "       [  0,   0,   0, ..., 273,   3, 195],\n",
              "       [  0,   0,   0, ...,   4, 169, 137]], dtype=int32)"
            ]
          },
          "metadata": {
            "tags": []
          },
          "execution_count": 23
        }
      ]
    },
    {
      "cell_type": "code",
      "metadata": {
        "id": "FLXy2bMg-Vsn"
      },
      "source": [
        "def my_model():\n",
        "    inputs = Input(name='inputs',shape=[max_len])\n",
        "    layer = Embedding(max_words,50,input_length=max_len)(inputs)\n",
        "    layer = LSTM(64, kernel_regularizer= regularizers.l2(0.0001), return_sequences = True)(layer)\n",
        "    layer = LSTM(32)(layer)\n",
        "    layer = Dense(512,name='FC1')(layer)\n",
        "    layer = Activation('relu')(layer)\n",
        "    layer = Dropout(0.2)(layer)\n",
        "    layer = Dense(1,name='out_layer')(layer)\n",
        "    layer = Activation('sigmoid')(layer)\n",
        "    model = Model(inputs=inputs,outputs=layer)\n",
        "    return model"
      ],
      "execution_count": 41,
      "outputs": []
    },
    {
      "cell_type": "code",
      "metadata": {
        "id": "qAgohG0k8Ryc",
        "outputId": "337839b4-65b4-401f-e658-197e7f2ac870",
        "colab": {
          "base_uri": "https://localhost:8080/",
          "height": 490
        }
      },
      "source": [
        "model = my_model()\n",
        "model.summary()\n",
        "from keras.optimizers import Adam\n",
        "opt = Adam(learning_rate= 0.001)                                     #lr=0.001, momentum=0.9\n",
        "model.compile(loss='binary_crossentropy',optimizer=opt,metrics=['accuracy'])"
      ],
      "execution_count": 42,
      "outputs": [
        {
          "output_type": "stream",
          "text": [
            "Model: \"functional_7\"\n",
            "_________________________________________________________________\n",
            "Layer (type)                 Output Shape              Param #   \n",
            "=================================================================\n",
            "inputs (InputLayer)          [(None, 150)]             0         \n",
            "_________________________________________________________________\n",
            "embedding_5 (Embedding)      (None, 150, 50)           750000    \n",
            "_________________________________________________________________\n",
            "lstm_5 (LSTM)                (None, 150, 64)           29440     \n",
            "_________________________________________________________________\n",
            "lstm_6 (LSTM)                (None, 32)                12416     \n",
            "_________________________________________________________________\n",
            "FC1 (Dense)                  (None, 32)                1056      \n",
            "_________________________________________________________________\n",
            "activation_6 (Activation)    (None, 32)                0         \n",
            "_________________________________________________________________\n",
            "dropout_3 (Dropout)          (None, 32)                0         \n",
            "_________________________________________________________________\n",
            "out_layer (Dense)            (None, 1)                 33        \n",
            "_________________________________________________________________\n",
            "activation_7 (Activation)    (None, 1)                 0         \n",
            "=================================================================\n",
            "Total params: 792,945\n",
            "Trainable params: 792,945\n",
            "Non-trainable params: 0\n",
            "_________________________________________________________________\n"
          ],
          "name": "stdout"
        }
      ]
    },
    {
      "cell_type": "code",
      "metadata": {
        "id": "V7K1Sdfh8w-g"
      },
      "source": [
        "model.fit(sequences_matrix,y_train,batch_size=128,epochs=50,\n",
        "          validation_split=0.2)                                    #"
      ],
      "execution_count": null,
      "outputs": []
    },
    {
      "cell_type": "code",
      "metadata": {
        "id": "nYhbBccv-bfj"
      },
      "source": [
        "model.save('/content/model_74.h5')"
      ],
      "execution_count": 32,
      "outputs": []
    },
    {
      "cell_type": "code",
      "metadata": {
        "id": "Nr8AzuzQJ8jQ"
      },
      "source": [
        "test_sequences = tok.texts_to_sequences(x_test.astype(str))\n",
        "test_sequences_matrix = sequence.pad_sequences(test_sequences,maxlen=max_len)"
      ],
      "execution_count": null,
      "outputs": []
    },
    {
      "cell_type": "code",
      "metadata": {
        "id": "4Yys0GAsKAaw",
        "outputId": "4fea1aa7-e086-4261-eae4-cfb23915fbd8",
        "colab": {
          "base_uri": "https://localhost:8080/",
          "height": 34
        }
      },
      "source": [
        "accr = model.evaluate(test_sequences_matrix,y_test)"
      ],
      "execution_count": null,
      "outputs": [
        {
          "output_type": "stream",
          "text": [
            "1815/1815 [==============================] - 14s 8ms/step - loss: 0.5232 - accuracy: 0.7259\n"
          ],
          "name": "stdout"
        }
      ]
    },
    {
      "cell_type": "code",
      "metadata": {
        "id": "6rrhIgOhKQ7n"
      },
      "source": [
        "sample_text = [\"He was in my skool\",\n",
        "                \"  who are you?  \",\n",
        "                \"I work in Pvt company\",\n",
        "                \"What are you doing?   \",\n",
        "               \"i will be success\"]"
      ],
      "execution_count": null,
      "outputs": []
    },
    {
      "cell_type": "code",
      "metadata": {
        "id": "-A_gdOaVLU2N"
      },
      "source": [
        "sample_sequence = tok.texts_to_sequences(sample_text)\n",
        "sample_sequence_matrix = sequence.pad_sequences(sample_sequence, maxlen=max_len)"
      ],
      "execution_count": null,
      "outputs": []
    },
    {
      "cell_type": "code",
      "metadata": {
        "id": "kni4TrpfLV4O",
        "outputId": "cb5f6a3f-61c4-42c0-dce0-d7d73dfd1863",
        "colab": {
          "base_uri": "https://localhost:8080/",
          "height": 34
        }
      },
      "source": [
        "pred = model.predict(sample_sequence_matrix)\n",
        "pred.round()\n",
        "result = list()\n",
        "for i in pred.round():\n",
        "  if i == 1:\n",
        "    result.append(\"Incorrect\")\n",
        "  else:\n",
        "    result.append(\"Correct\")\n",
        "result\n"
      ],
      "execution_count": null,
      "outputs": [
        {
          "output_type": "execute_result",
          "data": {
            "text/plain": [
              "['Incorrect', 'Correct', 'Incorrect', 'Correct', 'Incorrect']"
            ]
          },
          "metadata": {
            "tags": []
          },
          "execution_count": 42
        }
      ]
    }
  ]
}